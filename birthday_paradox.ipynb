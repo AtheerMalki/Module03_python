{
 "cells": [
  {
   "cell_type": "code",
   "execution_count": 107,
   "metadata": {},
   "outputs": [
    {
     "name": "stdout",
     "output_type": "stream",
     "text": [
      "number of people: 25\n",
      "chance of a birthday match:  52.52 %\n"
     ]
    }
   ],
   "source": [
    "import random \n",
    "\n",
    "trials = 5000\n",
    "num_people = 25    # test different values\n",
    "match_exists = 0\n",
    "\n",
    "for x in range(0, trials):\n",
    "    \n",
    "    # generate list of people's birthdays\n",
    "    birthdays = []\n",
    "    for i in range(1, num_people):\n",
    "        n = random.randint(1,366)\n",
    "        birthdays.append(n)\n",
    "    #print(birthdays)\n",
    "    \n",
    "    # check if there are duplicates values (birthdays)\n",
    "    matches = 0\n",
    "    for elem in birthdays:\n",
    "        if birthdays.count(elem) > 1:\n",
    "            matches = matches + 1\n",
    "            \n",
    "    matches = int(matches/2) # since it counts each pair twice\n",
    "    #print(x, \"number pairs of perople with matching birthdays:\", matches)\n",
    "    \n",
    "    # sum of trials where there was a match \n",
    "    if matches > 0:\n",
    "        match_exists = match_exists + 1\n",
    "\n",
    "        \n",
    "# result\n",
    "print(\"number of people:\", num_people)        \n",
    "print(\"chance of a birthday match: \", match_exists/trials*100, \"%\")"
   ]
  }
 ],
 "metadata": {
  "kernelspec": {
   "display_name": "Python 3",
   "language": "python",
   "name": "python3"
  },
  "language_info": {
   "codemirror_mode": {
    "name": "ipython",
    "version": 3
   },
   "file_extension": ".py",
   "mimetype": "text/x-python",
   "name": "python",
   "nbconvert_exporter": "python",
   "pygments_lexer": "ipython3",
   "version": "3.7.4"
  }
 },
 "nbformat": 4,
 "nbformat_minor": 4
}
