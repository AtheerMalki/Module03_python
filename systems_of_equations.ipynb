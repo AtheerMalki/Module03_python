{
 "cells": [
  {
   "cell_type": "code",
   "execution_count": 6,
   "metadata": {},
   "outputs": [
    {
     "name": "stdout",
     "output_type": "stream",
     "text": [
      "[1.5 0.3]\n"
     ]
    }
   ],
   "source": [
    "# 3x + 5y = 6\n",
    "# 7x - 5y = 9\n",
    "\n",
    "A = np.array([[3,5],[7,-5]])\n",
    "b = np.array([6,9])\n",
    "\n",
    "A_inv = np.linalg.inv(A)\n",
    "\n",
    "x = np.matmul(A_inv,b)\n",
    "\n",
    "print(x)"
   ]
  },
  {
   "cell_type": "code",
   "execution_count": 10,
   "metadata": {},
   "outputs": [
    {
     "name": "stdout",
     "output_type": "stream",
     "text": [
      "[10.   0.5 -4.5]\n"
     ]
    }
   ],
   "source": [
    "#   x + y + z = 6\n",
    "#       y + z = -4\n",
    "# 2x + 5y - z = 27\n",
    "\n",
    "A = np.array([[1,1,1],[0,1,1],[2,5,-1]])\n",
    "b = np.array([6,-4,27])\n",
    "\n",
    "A_inv = np.linalg.inv(A)\n",
    "\n",
    "x = np.matmul(A_inv,b)\n",
    "\n",
    "print(x)"
   ]
  },
  {
   "cell_type": "code",
   "execution_count": 17,
   "metadata": {},
   "outputs": [],
   "source": [
    "#  x + y = 4\n",
    "# 2x + 2y = 8\n",
    "\n",
    "A = np.array([[1,1],[2,2]])\n",
    "b = np.array([4,8])\n",
    "\n",
    "#A_inv = np.linalg.inv(A) # not invertible, determinant is 0\n",
    "\n",
    "# no solution"
   ]
  },
  {
   "cell_type": "code",
   "execution_count": null,
   "metadata": {},
   "outputs": [],
   "source": []
  }
 ],
 "metadata": {
  "kernelspec": {
   "display_name": "Python 3",
   "language": "python",
   "name": "python3"
  },
  "language_info": {
   "codemirror_mode": {
    "name": "ipython",
    "version": 3
   },
   "file_extension": ".py",
   "mimetype": "text/x-python",
   "name": "python",
   "nbconvert_exporter": "python",
   "pygments_lexer": "ipython3",
   "version": "3.7.4"
  }
 },
 "nbformat": 4,
 "nbformat_minor": 4
}
