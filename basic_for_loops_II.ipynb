{
 "cells": [
  {
   "cell_type": "code",
   "execution_count": 5,
   "metadata": {},
   "outputs": [
    {
     "name": "stdout",
     "output_type": "stream",
     "text": [
      "[-1, 'big', 'big', -5]\n"
     ]
    }
   ],
   "source": [
    "#Biggie Size - \n",
    "#Given a list, write a function that changes all positive numbers in the list to \"big\".\n",
    "#Example: biggie_size([-1, 3, 5, -5]) returns that same list, but whose values are now [-1, \"big\", \"big\", -5]\n",
    "\n",
    "def biggie_size(ls):\n",
    "    return ['big' if x > 0 else x for x in ls]\n",
    "\n",
    "print(biggie_size([-1, 3, 5, -5]))"
   ]
  },
  {
   "cell_type": "code",
   "execution_count": 11,
   "metadata": {},
   "outputs": [
    {
     "name": "stdout",
     "output_type": "stream",
     "text": [
      "[-1, 1, 1, 3]\n",
      "[1, 6, -4, -2, -7, 2]\n"
     ]
    }
   ],
   "source": [
    "#Count Positives - Given a list of numbers, create a function to replace the last value with \n",
    "#the number of positive values. (Note that zero is not considered to be a positive number).\n",
    "#Example: count_positives([-1,1,1,1]) changes the original list to [-1,1,1,3] and returns it\n",
    "#Example: count_positives([1,6,-4,-2,-7,-2]) changes the list to [1,6,-4,-2,-7,2] and returns it\n",
    "\n",
    "def count_positives(ls):\n",
    "    val = sum(1 for x in ls if x > 0) # https://stackoverflow.com/a/2900105\n",
    "    ls[len(ls)-1] = val\n",
    "    return ls\n",
    "    \n",
    "print(count_positives([-1,1,1,1]))\n",
    "print(count_positives([1,6,-4,-2,-7,-2]))"
   ]
  },
  {
   "cell_type": "code",
   "execution_count": 17,
   "metadata": {},
   "outputs": [
    {
     "name": "stdout",
     "output_type": "stream",
     "text": [
      "10\n",
      "7\n"
     ]
    }
   ],
   "source": [
    "#Sum Total - Create a function that takes a list and returns the sum of all the values in the array.\n",
    "#Example: sum_total([1,2,3,4]) should return 10\n",
    "#Example: sum_total([6,3,-2]) should return 7\n",
    "\n",
    "def sum_total(ls):\n",
    "    return sum(x for x in ls)\n",
    "\n",
    "print(sum_total([1,2,3,4]))\n",
    "print(sum_total([6,3,-2]))"
   ]
  },
  {
   "cell_type": "code",
   "execution_count": 18,
   "metadata": {},
   "outputs": [
    {
     "name": "stdout",
     "output_type": "stream",
     "text": [
      "2.5\n"
     ]
    }
   ],
   "source": [
    "#Average - Create a function that takes a list and returns the average of all the values.\n",
    "#Example: average([1,2,3,4]) should return 2.5\n",
    "\n",
    "def average(ls):\n",
    "    return sum(x for x in ls)/len(ls)\n",
    "\n",
    "print(average([1,2,3,4]))"
   ]
  },
  {
   "cell_type": "code",
   "execution_count": 19,
   "metadata": {},
   "outputs": [
    {
     "name": "stdout",
     "output_type": "stream",
     "text": [
      "4\n",
      "0\n"
     ]
    }
   ],
   "source": [
    "#Length - Create a function that takes a list and returns the length of the list.\n",
    "#Example: length([37,2,1,-9]) should return 4\n",
    "#Example: length([]) should return 0\n",
    "\n",
    "def length(ls):\n",
    "    return len(ls)\n",
    "\n",
    "print(length([37,2,1,-9]))\n",
    "print(length([]))"
   ]
  },
  {
   "cell_type": "code",
   "execution_count": 23,
   "metadata": {},
   "outputs": [
    {
     "name": "stdout",
     "output_type": "stream",
     "text": [
      "-9\n",
      "False\n"
     ]
    }
   ],
   "source": [
    "#Minimum - Create a function that takes a list of numbers and returns the \n",
    "#minimum value in the list. (Optional) If the list is empty, have the function return False.\n",
    "#Example: minimum([37,2,1,-9]) should return -9\n",
    "#(Optional) Example: minimum([]) should return False\n",
    "\n",
    "def minimum(ls):\n",
    "    if len(ls) > 0:\n",
    "        min = ls[0]\n",
    "        for x in ls:\n",
    "            if x < min:\n",
    "                min = x\n",
    "        return min\n",
    "    else:\n",
    "        return False\n",
    "\n",
    "print(minimum([37,2,1,-9]))\n",
    "print(minimum([]))"
   ]
  },
  {
   "cell_type": "code",
   "execution_count": 24,
   "metadata": {},
   "outputs": [
    {
     "name": "stdout",
     "output_type": "stream",
     "text": [
      "37\n",
      "False\n"
     ]
    }
   ],
   "source": [
    "#Maximum - Create a function that takes a list and returns the \n",
    "#maximum value in the array. (Optional) If the list is empty, have the function return False.\n",
    "#Example: maximum([37,2,1,-9]) should return 37\n",
    "#(Optional) Example: maximum([]) should return False\n",
    "\n",
    "def maximum(ls):\n",
    "    if len(ls) > 0:\n",
    "        max = ls[0]\n",
    "        for x in ls:\n",
    "            if x > max:\n",
    "                max = x\n",
    "        return max\n",
    "    else:\n",
    "        return False\n",
    "\n",
    "print(maximum([37,2,1,-9]))\n",
    "print(maximum([]))"
   ]
  },
  {
   "cell_type": "code",
   "execution_count": 31,
   "metadata": {},
   "outputs": [
    {
     "name": "stdout",
     "output_type": "stream",
     "text": [
      "{'sumTotal': 31, 'average': 7.75, 'minimum': -9, 'maximum': 37, 'length': 4}\n"
     ]
    }
   ],
   "source": [
    "#Ultimate Analysis (Optional) - \n",
    "#Create a function that takes a list and returns a dictionary that \n",
    "#has the sumTotal, average, minimum, maximum and length of the list.\n",
    "#Example: \n",
    "#ultimate_analysis([37,2,1,-9]) should return\n",
    "#{'sumTotal': 31, 'average': 7.75, 'minimum': -9, 'maximum': 37, 'length': 4 }\n",
    "\n",
    "def ultimate_analysis(ls):\n",
    "    # calling previously written functions\n",
    "    sumVal = sum_total(ls)\n",
    "    averageVal = average(ls)\n",
    "    minVal = minimum(ls)\n",
    "    maxVal = maximum(ls)\n",
    "    lengthVal = length(ls)\n",
    "    return {'sumTotal': sumVal, 'average': averageVal, 'minimum': minVal, 'maximum': maxVal, 'length': lengthVal }\n",
    "\n",
    "analysis = ultimate_analysis([37,2,1,-9])\n",
    "print(analysis)"
   ]
  },
  {
   "cell_type": "code",
   "execution_count": 40,
   "metadata": {},
   "outputs": [],
   "source": [
    "#Reverse List (Optional) - \n",
    "#Create a function that takes a list and return that list with values reversed. \n",
    "#Do this without creating a second list. (This challenge is known to appear during basic technical interviews.)\n",
    "#Example: reverse_list([37,2,1,-9]) should return [-9,1,2,37]"
   ]
  }
 ],
 "metadata": {
  "kernelspec": {
   "display_name": "Python 3",
   "language": "python",
   "name": "python3"
  },
  "language_info": {
   "codemirror_mode": {
    "name": "ipython",
    "version": 3
   },
   "file_extension": ".py",
   "mimetype": "text/x-python",
   "name": "python",
   "nbconvert_exporter": "python",
   "pygments_lexer": "ipython3",
   "version": "3.7.4"
  }
 },
 "nbformat": 4,
 "nbformat_minor": 4
}
