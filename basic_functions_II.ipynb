{
 "cells": [
  {
   "cell_type": "code",
   "execution_count": 6,
   "metadata": {},
   "outputs": [
    {
     "name": "stdout",
     "output_type": "stream",
     "text": [
      "[5, 4, 3, 2, 1, 0]\n"
     ]
    }
   ],
   "source": [
    "#Countdown - \n",
    "#Create a function that accepts a number as an input. \n",
    "#Return a new list that counts down by one, from the number (as the 0th element) down to 0 (as the last element).\n",
    "#Example: countdown(5) should return the list: [5,4,3,2,1,0]\n",
    "\n",
    "def countdown(n):\n",
    "    ls = []\n",
    "    for x in range (n, -1, -1):\n",
    "        ls.append(x)\n",
    "    return ls\n",
    "\n",
    "print(countdown(5))"
   ]
  },
  {
   "cell_type": "code",
   "execution_count": 9,
   "metadata": {},
   "outputs": [
    {
     "name": "stdout",
     "output_type": "stream",
     "text": [
      "1\n",
      "returned:  2\n"
     ]
    }
   ],
   "source": [
    "#Print and Return - \n",
    "#Create a function that will receive a list with two numbers. \n",
    "#Print the first value and return the second.\n",
    "#Example: print_and_return([1,2]) should print 1 and return 2\n",
    "\n",
    "def print_and_return(ls):\n",
    "    print(ls[0])\n",
    "    return ls[1]\n",
    "\n",
    "rt = print_and_return([1,2])\n",
    "print(\"returned: \", rt)"
   ]
  },
  {
   "cell_type": "code",
   "execution_count": 13,
   "metadata": {},
   "outputs": [
    {
     "name": "stdout",
     "output_type": "stream",
     "text": [
      "6\n"
     ]
    }
   ],
   "source": [
    "#First Plus Length - \n",
    "#Create a function that accepts a list and \n",
    "#returns the sum of the first value in the list plus the list's length.\n",
    "#Example: first_plus_length([1,2,3,4,5]) should return 6 (first value: 1 + length: 5)\n",
    "\n",
    "def first_plus_length(ls):\n",
    "    return ls[0] + len(ls)\n",
    "\n",
    "x = first_plus_length([1,2,3,4,5])\n",
    "print(x)"
   ]
  },
  {
   "cell_type": "code",
   "execution_count": 4,
   "metadata": {},
   "outputs": [
    {
     "name": "stdout",
     "output_type": "stream",
     "text": [
      "[7, 7, 7, 7]\n",
      "[2, 2, 2, 2, 2, 2]\n"
     ]
    }
   ],
   "source": [
    "#This Length, That Value- \n",
    "#Write a function that accepts two integers as parameters: size and value. \n",
    "#The function should create and return a list whose length is equal to the given size, \n",
    "#and whose values are all the given value.\n",
    "#Example: length_and_value(4,7) should return [7,7,7,7]\n",
    "#Example: length_and_value(6,2) should return [2,2,2,2,2,2]\n",
    "\n",
    "def length_and_value(n, x):\n",
    "    ls = []\n",
    "    while n > 0:\n",
    "        ls.append(x)\n",
    "        n-=1\n",
    "    return ls\n",
    "\n",
    "print(length_and_value(4,7))\n",
    "print(length_and_value(6,2))"
   ]
  },
  {
   "cell_type": "code",
   "execution_count": 11,
   "metadata": {},
   "outputs": [
    {
     "name": "stdout",
     "output_type": "stream",
     "text": [
      "[5, 3, 4]\n"
     ]
    },
    {
     "data": {
      "text/plain": [
       "False"
      ]
     },
     "execution_count": 11,
     "metadata": {},
     "output_type": "execute_result"
    }
   ],
   "source": [
    "#Values Greater than Second (Optional) - \n",
    "#Write a function that accepts a list and creates a new list containing only the values\n",
    "#from the original list that are greater than its 2nd value. \n",
    "#Print how many values this is and then return the new list. \n",
    "#If the list has less than 2 elements, have the function return False\n",
    "#Example: values_greater_than_second([5,2,3,2,1,4]) should print 3 and return [5,3,4]\n",
    "#Example: values_greater_than_second([3]) should return False\n",
    "\n",
    "def values_greater_than_second(ls):\n",
    "    if (len(ls) < 2):\n",
    "        return False\n",
    "    else:\n",
    "        ls2 = [x for x in ls if x > ls[1]]  # https://stackoverflow.com/a/9542768\n",
    "    return ls2 \n",
    "\n",
    "print(values_greater_than_second([5,2,3,2,1,4]))\n",
    "values_greater_than_second([3])"
   ]
  }
 ],
 "metadata": {
  "kernelspec": {
   "display_name": "Python 3",
   "language": "python",
   "name": "python3"
  },
  "language_info": {
   "codemirror_mode": {
    "name": "ipython",
    "version": 3
   },
   "file_extension": ".py",
   "mimetype": "text/x-python",
   "name": "python",
   "nbconvert_exporter": "python",
   "pygments_lexer": "ipython3",
   "version": "3.7.4"
  }
 },
 "nbformat": 4,
 "nbformat_minor": 4
}
