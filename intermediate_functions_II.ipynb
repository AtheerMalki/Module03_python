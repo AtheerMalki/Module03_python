{
 "cells": [
  {
   "cell_type": "code",
   "execution_count": 30,
   "metadata": {},
   "outputs": [
    {
     "name": "stdout",
     "output_type": "stream",
     "text": [
      "[[5, 2, 3], [15, 8, 9]]\n",
      "[{'first_name': 'Michael', 'last_name': 'Bryant'}, {'first_name': 'John', 'last_name': 'Rosales'}]\n",
      "{'basketball': ['Kobe', 'Jordan', 'James', 'Curry'], 'soccer': ['Andres', 'Ronaldo', 'Rooney']}\n",
      "[{'x': 10, 'y': 30}]\n"
     ]
    }
   ],
   "source": [
    "# ---------------------------------------------\n",
    "# 1- Update Values in Dictionaries and Lists\n",
    "# ---------------------------------------------\n",
    "\n",
    "x = [ [5,2,3], [10,8,9] ] \n",
    "\n",
    "students = [\n",
    "     {'first_name':  'Michael', 'last_name' : 'Jordan'},\n",
    "     {'first_name' : 'John', 'last_name' : 'Rosales'}\n",
    "]\n",
    "\n",
    "sports_directory = {\n",
    "    'basketball' : ['Kobe', 'Jordan', 'James', 'Curry'],\n",
    "    'soccer' : ['Messi', 'Ronaldo', 'Rooney']\n",
    "}\n",
    "\n",
    "z = [ {'x': 10, 'y': 20} ]\n",
    "\n",
    "#Change the value 10 in x to 15. Once you're done, x should now be [ [5,2,3], [15,8,9] ].\n",
    "x[1][0] = 15\n",
    "print(x)\n",
    "\n",
    "#Change the last_name of the first student from 'Jordan' to 'Bryant'\n",
    "students[0]['last_name'] = \"Bryant\"\n",
    "print(students)\n",
    "\n",
    "#In the sports_directory, change 'Messi' to 'Andres'\n",
    "sports_directory['soccer'][0]='Andres'\n",
    "print(sports_directory)\n",
    "\n",
    "#Change the value 20 in z to 30\n",
    "z[0]['y'] = 30\n",
    "print(z)"
   ]
  },
  {
   "cell_type": "code",
   "execution_count": 41,
   "metadata": {},
   "outputs": [
    {
     "name": "stdout",
     "output_type": "stream",
     "text": [
      "{'first_name': 'Michael', 'last_name': 'Jordan'}\n",
      "{'first_name': 'John', 'last_name': 'Rosales'}\n",
      "{'first_name': 'Mark', 'last_name': 'Guillen'}\n",
      "{'first_name': 'KB', 'last_name': 'Tonel'}\n"
     ]
    }
   ],
   "source": [
    "# ---------------------------------------------\n",
    "# 2- Iterate Through a List of Dictionaries\n",
    "# ---------------------------------------------\n",
    "\n",
    "#Create a function iterateDictionary(some_list) that, given a list of dictionaries, \n",
    "#the function loops through each dictionary in the list and prints each key and the associated value.\n",
    "\n",
    "def iterateDictionary(ls):\n",
    "    for i in range(0,len(ls),1):\n",
    "        print(ls[i])\n",
    "\n",
    "students = [\n",
    "         {'first_name':  'Michael', 'last_name' : 'Jordan'},\n",
    "         {'first_name' : 'John', 'last_name' : 'Rosales'},\n",
    "         {'first_name' : 'Mark', 'last_name' : 'Guillen'},\n",
    "         {'first_name' : 'KB', 'last_name' : 'Tonel'}\n",
    "    ]\n",
    "\n",
    "iterateDictionary(students) "
   ]
  },
  {
   "cell_type": "code",
   "execution_count": 56,
   "metadata": {},
   "outputs": [
    {
     "name": "stdout",
     "output_type": "stream",
     "text": [
      "Michael\n",
      "John\n",
      "Mark\n",
      "KB\n",
      "Jordan\n",
      "Rosales\n",
      "Guillen\n",
      "Tonel\n"
     ]
    }
   ],
   "source": [
    "# ---------------------------------------------\n",
    "# 3- Get Values From a List of Dictionaries\n",
    "# ---------------------------------------------\n",
    "\n",
    "#Create a function iterateDictionary2(key_name, some_list) that, given a list of dictionaries\n",
    "#and a key name, the function prints the value stored in that key for each dictionary.\n",
    "\n",
    "def iterateDictionary2(key, ls):\n",
    "    for i in range (len(ls)):\n",
    "        print(ls[i][key])\n",
    "\n",
    "iterateDictionary2('first_name', students)\n",
    "iterateDictionary2('last_name', students) "
   ]
  },
  {
   "cell_type": "code",
   "execution_count": 60,
   "metadata": {},
   "outputs": [
    {
     "name": "stdout",
     "output_type": "stream",
     "text": [
      "7 ['San Jose', 'Seattle', 'Dallas', 'Chicago', 'Tulsa', 'DC', 'Burbank']\n",
      "8 ['Michael', 'Amy', 'Eduardo', 'Josh', 'Graham', 'Patrick', 'Minh', 'Devon']\n"
     ]
    }
   ],
   "source": [
    "# -------------------------------------------------\n",
    "# 4- Iterate Through a Dictionary with List Values\n",
    "# -------------------------------------------------\n",
    "\n",
    "#Create a function printInfo(some_dict) that given a dictionary whose values are all lists, \n",
    "#prints the name of each key along with the size of its list, and \n",
    "#then prints the associated values within each key's list.\n",
    "\n",
    "def printInfo(dict_a):\n",
    "        print(len(dict_a['locations']), dict_a['locations'])\n",
    "        print(len(dict_a['instructors']), dict_a['instructors'])\n",
    "\n",
    "dojo = {\n",
    "   'locations': ['San Jose', 'Seattle', 'Dallas', 'Chicago', 'Tulsa', 'DC', 'Burbank'],\n",
    "   'instructors': ['Michael', 'Amy', 'Eduardo', 'Josh', 'Graham', 'Patrick', 'Minh', 'Devon']\n",
    "}\n",
    "\n",
    "printInfo(dojo)"
   ]
  }
 ],
 "metadata": {
  "kernelspec": {
   "display_name": "Python 3",
   "language": "python",
   "name": "python3"
  },
  "language_info": {
   "codemirror_mode": {
    "name": "ipython",
    "version": 3
   },
   "file_extension": ".py",
   "mimetype": "text/x-python",
   "name": "python",
   "nbconvert_exporter": "python",
   "pygments_lexer": "ipython3",
   "version": "3.7.4"
  }
 },
 "nbformat": 4,
 "nbformat_minor": 4
}
