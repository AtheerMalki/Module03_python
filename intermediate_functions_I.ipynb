{
 "cells": [
  {
   "cell_type": "code",
   "execution_count": 114,
   "metadata": {},
   "outputs": [
    {
     "name": "stdout",
     "output_type": "stream",
     "text": [
      "52\n",
      "invalid min and max values\n",
      "None\n",
      "51\n",
      "319\n"
     ]
    }
   ],
   "source": [
    "#With this concept of default parameters in mind, the goal of this assignment is \n",
    "#to write a single function we are going to name randInt() that takes up to 2 arguments.\n",
    "\n",
    "#If no arguments are provided, the function should return a random integer between 0 and 100.\n",
    "#If only a max number is provided, the function should return a random integer between 0 and the max number.\n",
    "#If only a min number is provided, the function should return a random integer between the min number and 100\n",
    "#If both a min and max number are provided, the function should return a random integer between those 2 values.\n",
    "\n",
    "import random\n",
    "\n",
    "def randInt(min=0, max=100):\n",
    "    if (max == 0 ) ^ (min > max):\n",
    "        print(\"invalid min and max values\")\n",
    "    else:\n",
    "        if min == 0:\n",
    "            return round(random.random() * max)\n",
    "        else:\n",
    "            return round(random.random() * (max-min) + min)\n",
    "    \n",
    "print(randInt()) \t\t    # should print a random integer between 0 to 100\n",
    "print(randInt(max=0)) \t    # should print a random integer between 0 to 50\n",
    "print(randInt(min=50)) \t    # should print a random integer between 50 to 100\n",
    "print(randInt(min=50, max=500))    # should print a random integer between 50 and 500"
   ]
  }
 ],
 "metadata": {
  "kernelspec": {
   "display_name": "Python 3",
   "language": "python",
   "name": "python3"
  },
  "language_info": {
   "codemirror_mode": {
    "name": "ipython",
    "version": 3
   },
   "file_extension": ".py",
   "mimetype": "text/x-python",
   "name": "python",
   "nbconvert_exporter": "python",
   "pygments_lexer": "ipython3",
   "version": "3.7.4"
  }
 },
 "nbformat": 4,
 "nbformat_minor": 4
}
